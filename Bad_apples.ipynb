{
 "cells": [
  {
   "cell_type": "code",
   "execution_count": 323,
   "id": "4f7dd270",
   "metadata": {},
   "outputs": [],
   "source": [
    "import pandas as pd\n",
    "import numpy as np\n",
    "import matplotlib.pyplot as plt\n",
    "import seaborn as sns\n",
    "from PIL import Image\n",
    "from sklearn.model_selection import train_test_split\n",
    "import os\n",
    "import shutil\n",
    "import patoolib\n",
    "import keras\n",
    "from keras.models import Sequential\n",
    "from keras.layers import Dense, Flatten, Dropout\n",
    "from tensorflow.keras.preprocessing.image import ImageDataGenerator\n",
    "from keras.callbacks import EarlyStopping, ModelCheckpoint\n",
    "from keras.models import load_model\n",
    "from tensorflow.keras.layers import Conv2D, MaxPooling2D\n",
    "from keras import regularizers"
   ]
  },
  {
   "cell_type": "code",
   "execution_count": 2,
   "id": "34498fc8",
   "metadata": {},
   "outputs": [
    {
     "name": "stdout",
     "output_type": "stream",
     "text": [
      "patool: Extracting ./b6fftwbr2v-1/FruitNet_Processed Images.rar ...\n",
      "patool: running \"C:\\Program Files\\7-Zip\\7z.EXE\" x -o./fruits -- \"./b6fftwbr2v-1/FruitNet_Processed Images.rar\"\n",
      "patool: ... ./b6fftwbr2v-1/FruitNet_Processed Images.rar extracted to `./fruits'.\n"
     ]
    },
    {
     "data": {
      "text/plain": [
       "'./fruits'"
      ]
     },
     "execution_count": 2,
     "metadata": {},
     "output_type": "execute_result"
    }
   ],
   "source": [
    "patoolib.extract_archive(\"./b6fftwbr2v-1/FruitNet_Processed Images.rar\", outdir=\"./fruits\")"
   ]
  },
  {
   "cell_type": "code",
   "execution_count": 3,
   "id": "0e2cfca8",
   "metadata": {},
   "outputs": [],
   "source": [
    "good_a = os.listdir('fruits/Processed Images_Fruits/Good Quality_Fruits/Apple_Good')\n",
    "bad_a = os.listdir('fruits/Processed Images_Fruits/Bad Quality_Fruits/Apple_Bad')\n",
    "\n",
    "good_b = os.listdir('fruits/Processed Images_Fruits/Good Quality_Fruits/Banana_Good')\n",
    "bad_b = os.listdir('fruits/Processed Images_Fruits/Bad Quality_Fruits/Banana_Bad')\n",
    "\n",
    "good_g = os.listdir('fruits/Processed Images_Fruits/Good Quality_Fruits/Guava_Good')\n",
    "bad_g = os.listdir('fruits/Processed Images_Fruits/Bad Quality_Fruits/Guava_Bad')\n",
    "\n",
    "good_l = os.listdir('fruits/Processed Images_Fruits/Good Quality_Fruits/Lime_Good')\n",
    "bad_l = os.listdir('fruits/Processed Images_Fruits/Bad Quality_Fruits/Lime_Bad')\n",
    "\n",
    "good_o = os.listdir('fruits/Processed Images_Fruits/Good Quality_Fruits/Orange_Good')\n",
    "bad_o = os.listdir('fruits/Processed Images_Fruits/Bad Quality_Fruits/Orange_Bad')\n",
    "\n",
    "good_p = os.listdir('fruits/Processed Images_Fruits/Good Quality_Fruits/Pomegranate_Good')\n",
    "bad_p = os.listdir('fruits/Processed Images_Fruits/Bad Quality_Fruits/Pomegranate_Bad')\n",
    "\n",
    "good_images = good_a + good_b + good_g + good_l + good_o + good_p\n",
    "bad_images = bad_a + bad_b + bad_g + bad_l + bad_o + bad_p"
   ]
  },
  {
   "cell_type": "code",
   "execution_count": 4,
   "id": "126dbb4f",
   "metadata": {},
   "outputs": [],
   "source": [
    "os.mkdir('good_all')\n",
    "for image in good_a:\n",
    "    new_path = 'good_all/' + image\n",
    "    shutil.copy('fruits/Processed Images_Fruits/Good Quality_Fruits/Apple_Good/' + image, new_path)\n",
    "    \n",
    "for image in good_b:\n",
    "    new_path = 'good_all/' + image\n",
    "    shutil.copy('fruits/Processed Images_Fruits/Good Quality_Fruits/Banana_Good/' + image, new_path)\n",
    "    \n",
    "for image in good_g:\n",
    "    new_path = 'good_all/' + image\n",
    "    shutil.copy('fruits/Processed Images_Fruits/Good Quality_Fruits/Guava_Good/' + image, new_path)\n",
    "    \n",
    "for image in good_l:\n",
    "    new_path = 'good_all/' + image\n",
    "    shutil.copy('fruits/Processed Images_Fruits/Good Quality_Fruits/Lime_Good/' + image, new_path)\n",
    "    \n",
    "for image in good_o:\n",
    "    new_path = 'good_all/' + image\n",
    "    shutil.copy('fruits/Processed Images_Fruits/Good Quality_Fruits/Orange_Good/' + image, new_path)\n",
    "    \n",
    "for image in good_p:\n",
    "    new_path = 'good_all/' + image\n",
    "    shutil.copy('fruits/Processed Images_Fruits/Good Quality_Fruits/Pomegranate_Good/' + image, new_path)\n",
    "    \n",
    "os.mkdir('bad_all')\n",
    "for image in bad_a:\n",
    "    new_path = 'bad_all/' + image\n",
    "    shutil.copy('fruits/Processed Images_Fruits/Bad Quality_Fruits/Apple_Bad/' + image, new_path)\n",
    "    \n",
    "for image in bad_b:\n",
    "    new_path = 'bad_all/' + image\n",
    "    shutil.copy('fruits/Processed Images_Fruits/Bad Quality_Fruits/Banana_Bad/' + image, new_path)\n",
    "    \n",
    "for image in bad_g:\n",
    "    new_path = 'bad_all/' + image\n",
    "    shutil.copy('fruits/Processed Images_Fruits/Bad Quality_Fruits/Guava_Bad/' + image, new_path)\n",
    "    \n",
    "for image in bad_l:\n",
    "    new_path = 'bad_all/' + image\n",
    "    shutil.copy('fruits/Processed Images_Fruits/Bad Quality_Fruits/Lime_Bad/' + image, new_path)\n",
    "    \n",
    "for image in bad_o:\n",
    "    new_path = 'bad_all/' + image\n",
    "    shutil.copy('fruits/Processed Images_Fruits/Bad Quality_Fruits/Orange_Bad/' + image, new_path)\n",
    "    \n",
    "for image in bad_p:\n",
    "    new_path = 'bad_all/' + image\n",
    "    shutil.copy('fruits/Processed Images_Fruits/Bad Quality_Fruits/Pomegranate_Bad/'+ image, new_path)"
   ]
  },
  {
   "cell_type": "code",
   "execution_count": 70,
   "id": "aba6f189",
   "metadata": {},
   "outputs": [],
   "source": [
    "y = np.zeros(len(good_images))\n",
    "X = good_images\n",
    "g_train, g_test, y_train, y_test = train_test_split(X, y, test_size = .4)\n",
    "g_test, g_val, y_test, y_val = train_test_split(g_test, y_test, test_size = .25)\n",
    "\n",
    "\n",
    "y1 = np.ones(len(bad_images))\n",
    "X1 = bad_images\n",
    "b_train, b_test, y_train, y_test = train_test_split(X1, y1, test_size = .4)\n",
    "b_test, b_val, y_test, y_val = train_test_split(b_test, y_test, test_size = .25)"
   ]
  },
  {
   "cell_type": "code",
   "execution_count": 6,
   "id": "c17cb519",
   "metadata": {},
   "outputs": [
    {
     "data": {
      "text/plain": [
       "'./fruits/apples/Validation/bad'"
      ]
     },
     "execution_count": 6,
     "metadata": {},
     "output_type": "execute_result"
    }
   ],
   "source": [
    "os.mkdir('good_train')\n",
    "for image in g_train:\n",
    "    new_path = 'good_train/' + image\n",
    "    shutil.copy('good_all/' + image, new_path)\n",
    "shutil.move('good_train', './fruits/apples/Train/good')\n",
    "\n",
    "os.mkdir('good_test')\n",
    "for image in g_test:\n",
    "    new_path = 'good_test/' + image\n",
    "    shutil.copy('good_all/' + image, new_path)\n",
    "shutil.move('good_test', './fruits/apples/Test/good')\n",
    "\n",
    "os.mkdir('good_val')\n",
    "for image in g_val:\n",
    "    new_path = 'good_val/' + image\n",
    "    shutil.copy('good_all/' + image, new_path)\n",
    "shutil.move('good_val', './fruits/apples/Validation/good')\n",
    "\n",
    "os.mkdir('bad_train')\n",
    "for image in b_train:\n",
    "    new_path = 'bad_train/' + image\n",
    "    shutil.copy('bad_all/' + image, new_path)\n",
    "shutil.move('bad_train', './fruits/apples/Train/bad')\n",
    "\n",
    "os.mkdir('bad_test')\n",
    "for image in b_test:\n",
    "    new_path = 'bad_test/' + image\n",
    "    shutil.copy('bad_all/' + image, new_path)\n",
    "shutil.move('bad_test', './fruits/apples/Test/bad')\n",
    "\n",
    "os.mkdir('bad_val')\n",
    "for image in b_val:\n",
    "    new_path = 'bad_val/' + image\n",
    "    shutil.copy('bad_all/' + image, new_path)\n",
    "shutil.move('bad_val', './fruits/apples/Validation/bad')"
   ]
  },
  {
   "cell_type": "code",
   "execution_count": null,
   "id": "29800e17",
   "metadata": {},
   "outputs": [],
   "source": []
  },
  {
   "cell_type": "code",
   "execution_count": 346,
   "id": "6184428e",
   "metadata": {},
   "outputs": [],
   "source": [
    "\n",
    "IMAGE_SIZE = 200\n",
    "img_datagen = ImageDataGenerator(rescale = 1./255, horizontal_flip=False)"
   ]
  },
  {
   "cell_type": "code",
   "execution_count": 347,
   "id": "1e6b8d08",
   "metadata": {},
   "outputs": [
    {
     "name": "stdout",
     "output_type": "stream",
     "text": [
      "Found 10880 images belonging to 2 classes.\n"
     ]
    }
   ],
   "source": [
    "Train_generator = img_datagen.flow_from_directory(\n",
    "        'fruits/apples/Train',\n",
    "        target_size=(IMAGE_SIZE,IMAGE_SIZE),\n",
    "        batch_size = 100\n",
    "        #class_mode=\"sparse\"\n",
    ")"
   ]
  },
  {
   "cell_type": "code",
   "execution_count": 348,
   "id": "3d892d9a",
   "metadata": {},
   "outputs": [
    {
     "name": "stdout",
     "output_type": "stream",
     "text": [
      "Found 5485 images belonging to 2 classes.\n"
     ]
    }
   ],
   "source": [
    "Test_generator = img_datagen.flow_from_directory(\n",
    "        'fruits/apples/Test',\n",
    "        target_size=(IMAGE_SIZE,IMAGE_SIZE),\n",
    "        batch_size = 50\n",
    "        #class_mode=\"sparse\"\n",
    ")"
   ]
  },
  {
   "cell_type": "code",
   "execution_count": 349,
   "id": "b2c8241a",
   "metadata": {},
   "outputs": [
    {
     "name": "stdout",
     "output_type": "stream",
     "text": [
      "Found 1841 images belonging to 2 classes.\n"
     ]
    }
   ],
   "source": [
    "Val_generator = img_datagen.flow_from_directory(\n",
    "        'fruits/apples/Validation',\n",
    "        target_size=(IMAGE_SIZE,IMAGE_SIZE),\n",
    "        batch_size = 15\n",
    "        #class_mode=\"sparse\"\n",
    ")"
   ]
  },
  {
   "cell_type": "code",
   "execution_count": null,
   "id": "fb40839c",
   "metadata": {},
   "outputs": [],
   "source": []
  },
  {
   "cell_type": "code",
   "execution_count": 350,
   "id": "b08cfd9b",
   "metadata": {},
   "outputs": [],
   "source": [
    "train_images, train_labels = next(Train_generator)\n",
    "test_images, test_labels = next(Test_generator)\n",
    "val_images, val_labels = next(Val_generator)"
   ]
  },
  {
   "cell_type": "code",
   "execution_count": 351,
   "id": "34a251cd",
   "metadata": {},
   "outputs": [],
   "source": [
    "train_y = np.reshape(train_labels[:,0], (100,1))\n",
    "test_y = np.reshape(test_labels[:,0], (50,1))\n",
    "val_y = np.reshape(val_labels[:,0], (15,1))"
   ]
  },
  {
   "cell_type": "code",
   "execution_count": 356,
   "id": "351f50b9",
   "metadata": {},
   "outputs": [],
   "source": [
    "trainCallback = EarlyStopping(monitor='loss', min_delta = 0.0001, patience = 20)\n",
    "\n",
    "model_1 = Sequential()\n",
    "model_1.add(Conv2D(filters = 32, kernel_size = (3,3), activation = 'relu', \n",
    "                   input_shape = (IMAGE_SIZE, IMAGE_SIZE, 3)))\n",
    "model_1.add(MaxPooling2D(pool_size = (2,2)))\n",
    "\n",
    "#model_1.add(Conv2D(filters = 32, kernel_size = (4,4), activation = 'relu'))\n",
    "#model_1.add(MaxPooling2D(pool_size = (2,2)))\n",
    "\n",
    "#model_1.add(Conv2D(filters = 64, kernel_size = (3,3), activation = 'relu'))\n",
    "#model_1.add(MaxPooling2D(pool_size = (2,2)))\n",
    "\n",
    "model_1.add(Flatten())\n",
    "\n",
    "#model_1.add(Dense(64, activation = 'relu'))\n",
    "model_1.add(Dropout(0.1))\n",
    "model_1.add(Dense(64, activation = 'relu'))\n",
    "model_1.add(Dense(32, activation = 'relu'))\n",
    "model_1.add(Dense(1, activation = 'sigmoid'))\n",
    "\n",
    "model_1.compile(loss = 'binary_crossentropy', optimizer = 'adam', metrics = ['accuracy'])"
   ]
  },
  {
   "cell_type": "code",
   "execution_count": 357,
   "id": "8f44d6ad",
   "metadata": {
    "scrolled": true
   },
   "outputs": [
    {
     "name": "stdout",
     "output_type": "stream",
     "text": [
      "Epoch 1/300\n",
      "4/4 [==============================] - 1s 238ms/step - loss: 16.2206 - accuracy: 0.6100 - val_loss: 6.5437 - val_accuracy: 0.2800\n",
      "Epoch 2/300\n",
      "4/4 [==============================] - 1s 282ms/step - loss: 2.9135 - accuracy: 0.5700 - val_loss: 0.6385 - val_accuracy: 0.7200\n",
      "Epoch 3/300\n",
      "4/4 [==============================] - 1s 272ms/step - loss: 0.9162 - accuracy: 0.5300 - val_loss: 0.6566 - val_accuracy: 0.7200\n",
      "Epoch 4/300\n",
      "4/4 [==============================] - 1s 266ms/step - loss: 0.6438 - accuracy: 0.6500 - val_loss: 0.5547 - val_accuracy: 0.6800\n",
      "Epoch 5/300\n",
      "4/4 [==============================] - 1s 274ms/step - loss: 0.4868 - accuracy: 0.8000 - val_loss: 0.5108 - val_accuracy: 0.6800\n",
      "Epoch 6/300\n",
      "4/4 [==============================] - 1s 243ms/step - loss: 0.4961 - accuracy: 0.7600 - val_loss: 0.5137 - val_accuracy: 0.7000\n",
      "Epoch 7/300\n",
      "4/4 [==============================] - 1s 262ms/step - loss: 0.3807 - accuracy: 0.8500 - val_loss: 0.4509 - val_accuracy: 0.7200\n",
      "Epoch 8/300\n",
      "4/4 [==============================] - 1s 269ms/step - loss: 0.3132 - accuracy: 0.8400 - val_loss: 0.4008 - val_accuracy: 0.7800\n",
      "Epoch 9/300\n",
      "4/4 [==============================] - 1s 251ms/step - loss: 0.2911 - accuracy: 0.9200 - val_loss: 0.6124 - val_accuracy: 0.7600\n",
      "Epoch 10/300\n",
      "4/4 [==============================] - 1s 235ms/step - loss: 0.3292 - accuracy: 0.8600 - val_loss: 0.3858 - val_accuracy: 0.8000\n",
      "Epoch 11/300\n",
      "4/4 [==============================] - 1s 267ms/step - loss: 0.2106 - accuracy: 0.8900 - val_loss: 0.4313 - val_accuracy: 0.8000\n",
      "Epoch 12/300\n",
      "4/4 [==============================] - 1s 261ms/step - loss: 0.1800 - accuracy: 0.9300 - val_loss: 0.5498 - val_accuracy: 0.8000\n",
      "Epoch 13/300\n",
      "4/4 [==============================] - 1s 255ms/step - loss: 0.1361 - accuracy: 0.9500 - val_loss: 0.4913 - val_accuracy: 0.8400\n",
      "Epoch 14/300\n",
      "4/4 [==============================] - 1s 270ms/step - loss: 0.1087 - accuracy: 0.9900 - val_loss: 0.7370 - val_accuracy: 0.8000\n",
      "Epoch 15/300\n",
      "4/4 [==============================] - 1s 248ms/step - loss: 0.1465 - accuracy: 0.9400 - val_loss: 0.5568 - val_accuracy: 0.8200\n",
      "Epoch 16/300\n",
      "4/4 [==============================] - 1s 239ms/step - loss: 0.1650 - accuracy: 0.9400 - val_loss: 0.4180 - val_accuracy: 0.8600\n",
      "Epoch 17/300\n",
      "4/4 [==============================] - 1s 218ms/step - loss: 0.1310 - accuracy: 0.9400 - val_loss: 0.8714 - val_accuracy: 0.7400\n",
      "Epoch 18/300\n",
      "4/4 [==============================] - 1s 249ms/step - loss: 0.1962 - accuracy: 0.8900 - val_loss: 0.4147 - val_accuracy: 0.8000\n",
      "Epoch 19/300\n",
      "4/4 [==============================] - 1s 253ms/step - loss: 0.0872 - accuracy: 0.9800 - val_loss: 0.6113 - val_accuracy: 0.8200\n",
      "Epoch 20/300\n",
      "4/4 [==============================] - 1s 250ms/step - loss: 0.0828 - accuracy: 0.9800 - val_loss: 0.3821 - val_accuracy: 0.8000\n",
      "Epoch 21/300\n",
      "4/4 [==============================] - 1s 251ms/step - loss: 0.0698 - accuracy: 0.9900 - val_loss: 0.4242 - val_accuracy: 0.8600\n",
      "Epoch 22/300\n",
      "4/4 [==============================] - 1s 236ms/step - loss: 0.0532 - accuracy: 0.9900 - val_loss: 0.4890 - val_accuracy: 0.8600\n",
      "Epoch 23/300\n",
      "4/4 [==============================] - 1s 254ms/step - loss: 0.0415 - accuracy: 1.0000 - val_loss: 0.3766 - val_accuracy: 0.8000\n",
      "Epoch 24/300\n",
      "4/4 [==============================] - 1s 252ms/step - loss: 0.0451 - accuracy: 1.0000 - val_loss: 0.4069 - val_accuracy: 0.8400\n",
      "Epoch 25/300\n",
      "4/4 [==============================] - 1s 226ms/step - loss: 0.0341 - accuracy: 1.0000 - val_loss: 0.3921 - val_accuracy: 0.8600\n",
      "Epoch 26/300\n",
      "4/4 [==============================] - 1s 240ms/step - loss: 0.0230 - accuracy: 1.0000 - val_loss: 0.3628 - val_accuracy: 0.8000\n",
      "Epoch 27/300\n",
      "4/4 [==============================] - 1s 258ms/step - loss: 0.0360 - accuracy: 0.9900 - val_loss: 0.3907 - val_accuracy: 0.8600\n",
      "Epoch 28/300\n",
      "4/4 [==============================] - 1s 234ms/step - loss: 0.0209 - accuracy: 1.0000 - val_loss: 0.4921 - val_accuracy: 0.8400\n",
      "Epoch 29/300\n",
      "4/4 [==============================] - 1s 249ms/step - loss: 0.0202 - accuracy: 1.0000 - val_loss: 0.3957 - val_accuracy: 0.8800\n",
      "Epoch 30/300\n",
      "4/4 [==============================] - 1s 259ms/step - loss: 0.0154 - accuracy: 1.0000 - val_loss: 0.4007 - val_accuracy: 0.8800\n",
      "Epoch 31/300\n",
      "4/4 [==============================] - 1s 264ms/step - loss: 0.0137 - accuracy: 1.0000 - val_loss: 0.4458 - val_accuracy: 0.8600\n",
      "Epoch 32/300\n",
      "4/4 [==============================] - 1s 271ms/step - loss: 0.0135 - accuracy: 1.0000 - val_loss: 0.4244 - val_accuracy: 0.8600\n",
      "Epoch 33/300\n",
      "4/4 [==============================] - 1s 233ms/step - loss: 0.0127 - accuracy: 1.0000 - val_loss: 0.3980 - val_accuracy: 0.8600\n",
      "Epoch 34/300\n",
      "4/4 [==============================] - 1s 252ms/step - loss: 0.0144 - accuracy: 1.0000 - val_loss: 0.4422 - val_accuracy: 0.8400\n",
      "Epoch 35/300\n",
      "4/4 [==============================] - 1s 238ms/step - loss: 0.0113 - accuracy: 1.0000 - val_loss: 0.5103 - val_accuracy: 0.8400\n",
      "Epoch 36/300\n",
      "4/4 [==============================] - 1s 233ms/step - loss: 0.0122 - accuracy: 1.0000 - val_loss: 0.4112 - val_accuracy: 0.8600\n",
      "Epoch 37/300\n",
      "4/4 [==============================] - 1s 261ms/step - loss: 0.0082 - accuracy: 1.0000 - val_loss: 0.3941 - val_accuracy: 0.9000\n",
      "Epoch 38/300\n",
      "4/4 [==============================] - 1s 210ms/step - loss: 0.0090 - accuracy: 1.0000 - val_loss: 0.4106 - val_accuracy: 0.8600\n",
      "Epoch 39/300\n",
      "4/4 [==============================] - 1s 260ms/step - loss: 0.0075 - accuracy: 1.0000 - val_loss: 0.4416 - val_accuracy: 0.8600\n",
      "Epoch 40/300\n",
      "4/4 [==============================] - 1s 241ms/step - loss: 0.0070 - accuracy: 1.0000 - val_loss: 0.4245 - val_accuracy: 0.8600\n",
      "Epoch 41/300\n",
      "4/4 [==============================] - 1s 243ms/step - loss: 0.0063 - accuracy: 1.0000 - val_loss: 0.4087 - val_accuracy: 0.8600\n",
      "Epoch 42/300\n",
      "4/4 [==============================] - 1s 267ms/step - loss: 0.0066 - accuracy: 1.0000 - val_loss: 0.4145 - val_accuracy: 0.8600\n",
      "Epoch 43/300\n",
      "4/4 [==============================] - 1s 256ms/step - loss: 0.0054 - accuracy: 1.0000 - val_loss: 0.4913 - val_accuracy: 0.8600\n",
      "Epoch 44/300\n",
      "4/4 [==============================] - 1s 224ms/step - loss: 0.0063 - accuracy: 1.0000 - val_loss: 0.4585 - val_accuracy: 0.8800\n",
      "Epoch 45/300\n",
      "4/4 [==============================] - 1s 226ms/step - loss: 0.0049 - accuracy: 1.0000 - val_loss: 0.4200 - val_accuracy: 0.8600\n",
      "Epoch 46/300\n",
      "4/4 [==============================] - 1s 236ms/step - loss: 0.0043 - accuracy: 1.0000 - val_loss: 0.4127 - val_accuracy: 0.8800\n",
      "Epoch 47/300\n",
      "4/4 [==============================] - 1s 253ms/step - loss: 0.0044 - accuracy: 1.0000 - val_loss: 0.4187 - val_accuracy: 0.8800\n",
      "Epoch 48/300\n",
      "4/4 [==============================] - 1s 272ms/step - loss: 0.0039 - accuracy: 1.0000 - val_loss: 0.4206 - val_accuracy: 0.8600\n",
      "Epoch 49/300\n",
      "4/4 [==============================] - 1s 293ms/step - loss: 0.0038 - accuracy: 1.0000 - val_loss: 0.4553 - val_accuracy: 0.8800\n",
      "Epoch 50/300\n",
      "4/4 [==============================] - 1s 286ms/step - loss: 0.0036 - accuracy: 1.0000 - val_loss: 0.4390 - val_accuracy: 0.8600\n",
      "Epoch 51/300\n",
      "4/4 [==============================] - 1s 266ms/step - loss: 0.0031 - accuracy: 1.0000 - val_loss: 0.4172 - val_accuracy: 0.8800\n",
      "Epoch 52/300\n",
      "4/4 [==============================] - 1s 260ms/step - loss: 0.0031 - accuracy: 1.0000 - val_loss: 0.4113 - val_accuracy: 0.8800\n",
      "Epoch 53/300\n",
      "4/4 [==============================] - 1s 262ms/step - loss: 0.0028 - accuracy: 1.0000 - val_loss: 0.4138 - val_accuracy: 0.8600\n",
      "Epoch 54/300\n",
      "4/4 [==============================] - 1s 235ms/step - loss: 0.0025 - accuracy: 1.0000 - val_loss: 0.4139 - val_accuracy: 0.8800\n",
      "Epoch 55/300\n",
      "4/4 [==============================] - 1s 228ms/step - loss: 0.0025 - accuracy: 1.0000 - val_loss: 0.4275 - val_accuracy: 0.8600\n",
      "Epoch 56/300\n",
      "4/4 [==============================] - 1s 237ms/step - loss: 0.0026 - accuracy: 1.0000 - val_loss: 0.4610 - val_accuracy: 0.8800\n",
      "Epoch 57/300\n",
      "4/4 [==============================] - 1s 259ms/step - loss: 0.0022 - accuracy: 1.0000 - val_loss: 0.4056 - val_accuracy: 0.8800\n",
      "Epoch 58/300\n",
      "4/4 [==============================] - 1s 226ms/step - loss: 0.0027 - accuracy: 1.0000 - val_loss: 0.3891 - val_accuracy: 0.8800\n"
     ]
    },
    {
     "name": "stdout",
     "output_type": "stream",
     "text": [
      "Epoch 59/300\n",
      "4/4 [==============================] - 1s 238ms/step - loss: 0.0026 - accuracy: 1.0000 - val_loss: 0.3948 - val_accuracy: 0.8800\n",
      "Epoch 60/300\n",
      "4/4 [==============================] - 1s 239ms/step - loss: 0.0019 - accuracy: 1.0000 - val_loss: 0.4578 - val_accuracy: 0.8800\n",
      "Epoch 61/300\n",
      "4/4 [==============================] - 1s 240ms/step - loss: 0.0020 - accuracy: 1.0000 - val_loss: 0.4912 - val_accuracy: 0.8800\n",
      "Epoch 62/300\n",
      "4/4 [==============================] - 1s 254ms/step - loss: 0.0020 - accuracy: 1.0000 - val_loss: 0.4507 - val_accuracy: 0.8800\n",
      "Epoch 63/300\n",
      "4/4 [==============================] - 1s 260ms/step - loss: 0.0017 - accuracy: 1.0000 - val_loss: 0.4281 - val_accuracy: 0.8800\n",
      "Epoch 64/300\n",
      "4/4 [==============================] - 1s 255ms/step - loss: 0.0016 - accuracy: 1.0000 - val_loss: 0.4257 - val_accuracy: 0.8800\n",
      "Epoch 65/300\n",
      "4/4 [==============================] - 1s 245ms/step - loss: 0.0016 - accuracy: 1.0000 - val_loss: 0.4275 - val_accuracy: 0.8800\n",
      "Epoch 66/300\n",
      "4/4 [==============================] - 1s 250ms/step - loss: 0.0015 - accuracy: 1.0000 - val_loss: 0.4351 - val_accuracy: 0.8600\n",
      "Epoch 67/300\n",
      "4/4 [==============================] - 1s 240ms/step - loss: 0.0014 - accuracy: 1.0000 - val_loss: 0.4464 - val_accuracy: 0.8800\n",
      "Epoch 68/300\n",
      "4/4 [==============================] - 1s 257ms/step - loss: 0.0013 - accuracy: 1.0000 - val_loss: 0.4496 - val_accuracy: 0.8800\n",
      "Epoch 69/300\n",
      "4/4 [==============================] - 1s 253ms/step - loss: 0.0013 - accuracy: 1.0000 - val_loss: 0.4462 - val_accuracy: 0.8800\n",
      "Epoch 70/300\n",
      "4/4 [==============================] - 1s 243ms/step - loss: 0.0012 - accuracy: 1.0000 - val_loss: 0.4372 - val_accuracy: 0.8800\n",
      "Epoch 71/300\n",
      "4/4 [==============================] - 1s 265ms/step - loss: 0.0012 - accuracy: 1.0000 - val_loss: 0.4362 - val_accuracy: 0.9000\n",
      "Epoch 72/300\n",
      "4/4 [==============================] - 1s 251ms/step - loss: 0.0012 - accuracy: 1.0000 - val_loss: 0.4338 - val_accuracy: 0.8800\n",
      "Epoch 73/300\n",
      "4/4 [==============================] - 1s 251ms/step - loss: 0.0012 - accuracy: 1.0000 - val_loss: 0.4387 - val_accuracy: 0.9000\n",
      "Epoch 74/300\n",
      "4/4 [==============================] - 1s 229ms/step - loss: 0.0011 - accuracy: 1.0000 - val_loss: 0.4694 - val_accuracy: 0.8800\n",
      "Epoch 75/300\n",
      "4/4 [==============================] - 1s 242ms/step - loss: 0.0011 - accuracy: 1.0000 - val_loss: 0.5045 - val_accuracy: 0.8800\n",
      "Epoch 76/300\n",
      "4/4 [==============================] - 1s 235ms/step - loss: 0.0012 - accuracy: 1.0000 - val_loss: 0.5094 - val_accuracy: 0.8800\n",
      "Epoch 77/300\n",
      "4/4 [==============================] - 1s 217ms/step - loss: 0.0012 - accuracy: 1.0000 - val_loss: 0.4971 - val_accuracy: 0.8800\n",
      "Epoch 78/300\n",
      "4/4 [==============================] - 1s 267ms/step - loss: 0.0011 - accuracy: 1.0000 - val_loss: 0.4911 - val_accuracy: 0.8800\n",
      "Epoch 79/300\n",
      "4/4 [==============================] - 1s 258ms/step - loss: 0.0010 - accuracy: 1.0000 - val_loss: 0.4928 - val_accuracy: 0.8800\n",
      "Epoch 80/300\n",
      "4/4 [==============================] - 1s 256ms/step - loss: 9.7820e-04 - accuracy: 1.0000 - val_loss: 0.4667 - val_accuracy: 0.8800\n",
      "Epoch 81/300\n",
      "4/4 [==============================] - 1s 228ms/step - loss: 9.1401e-04 - accuracy: 1.0000 - val_loss: 0.4538 - val_accuracy: 0.8800\n",
      "Epoch 82/300\n",
      "4/4 [==============================] - 1s 269ms/step - loss: 9.7226e-04 - accuracy: 1.0000 - val_loss: 0.4564 - val_accuracy: 0.8800\n",
      "Epoch 83/300\n",
      "4/4 [==============================] - 1s 275ms/step - loss: 8.7486e-04 - accuracy: 1.0000 - val_loss: 0.4812 - val_accuracy: 0.8800\n",
      "Epoch 84/300\n",
      "4/4 [==============================] - 1s 254ms/step - loss: 8.2411e-04 - accuracy: 1.0000 - val_loss: 0.4988 - val_accuracy: 0.8800\n",
      "Epoch 85/300\n",
      "4/4 [==============================] - 1s 217ms/step - loss: 8.2316e-04 - accuracy: 1.0000 - val_loss: 0.4898 - val_accuracy: 0.8800\n",
      "Epoch 86/300\n",
      "4/4 [==============================] - 1s 266ms/step - loss: 7.6415e-04 - accuracy: 1.0000 - val_loss: 0.4639 - val_accuracy: 0.9000\n",
      "Epoch 87/300\n",
      "4/4 [==============================] - 1s 260ms/step - loss: 7.7182e-04 - accuracy: 1.0000 - val_loss: 0.4649 - val_accuracy: 0.9000\n",
      "Epoch 88/300\n",
      "4/4 [==============================] - 1s 226ms/step - loss: 7.2827e-04 - accuracy: 1.0000 - val_loss: 0.4827 - val_accuracy: 0.8800\n",
      "Epoch 89/300\n",
      "4/4 [==============================] - 1s 234ms/step - loss: 7.1303e-04 - accuracy: 1.0000 - val_loss: 0.4944 - val_accuracy: 0.8800\n",
      "Epoch 90/300\n",
      "4/4 [==============================] - 1s 249ms/step - loss: 6.8227e-04 - accuracy: 1.0000 - val_loss: 0.4917 - val_accuracy: 0.8800\n",
      "Epoch 91/300\n",
      "4/4 [==============================] - 1s 266ms/step - loss: 6.7889e-04 - accuracy: 1.0000 - val_loss: 0.4872 - val_accuracy: 0.8800\n",
      "Epoch 92/300\n",
      "4/4 [==============================] - 1s 227ms/step - loss: 6.5254e-04 - accuracy: 1.0000 - val_loss: 0.4971 - val_accuracy: 0.8800\n",
      "Epoch 93/300\n",
      "4/4 [==============================] - 1s 253ms/step - loss: 6.3765e-04 - accuracy: 1.0000 - val_loss: 0.4937 - val_accuracy: 0.8800\n",
      "Epoch 94/300\n",
      "4/4 [==============================] - 1s 258ms/step - loss: 6.4214e-04 - accuracy: 1.0000 - val_loss: 0.4929 - val_accuracy: 0.8800\n",
      "Epoch 95/300\n",
      "4/4 [==============================] - 1s 230ms/step - loss: 6.1159e-04 - accuracy: 1.0000 - val_loss: 0.4851 - val_accuracy: 0.8800\n",
      "Epoch 96/300\n",
      "4/4 [==============================] - 1s 254ms/step - loss: 6.2478e-04 - accuracy: 1.0000 - val_loss: 0.4605 - val_accuracy: 0.9200\n",
      "Epoch 97/300\n",
      "4/4 [==============================] - 1s 256ms/step - loss: 7.3268e-04 - accuracy: 1.0000 - val_loss: 0.4701 - val_accuracy: 0.9000\n",
      "Epoch 98/300\n",
      "4/4 [==============================] - 1s 247ms/step - loss: 6.4108e-04 - accuracy: 1.0000 - val_loss: 0.5002 - val_accuracy: 0.8800\n",
      "Epoch 99/300\n",
      "4/4 [==============================] - 1s 245ms/step - loss: 5.3797e-04 - accuracy: 1.0000 - val_loss: 0.5314 - val_accuracy: 0.8800\n",
      "Epoch 100/300\n",
      "4/4 [==============================] - 1s 264ms/step - loss: 5.4881e-04 - accuracy: 1.0000 - val_loss: 0.5369 - val_accuracy: 0.8800\n",
      "Epoch 101/300\n",
      "4/4 [==============================] - 1s 269ms/step - loss: 5.2788e-04 - accuracy: 1.0000 - val_loss: 0.5266 - val_accuracy: 0.8800\n",
      "Epoch 102/300\n",
      "4/4 [==============================] - 1s 243ms/step - loss: 5.2051e-04 - accuracy: 1.0000 - val_loss: 0.5144 - val_accuracy: 0.8800\n",
      "Epoch 103/300\n",
      "4/4 [==============================] - 1s 254ms/step - loss: 5.1861e-04 - accuracy: 1.0000 - val_loss: 0.5115 - val_accuracy: 0.8800\n",
      "Epoch 104/300\n",
      "4/4 [==============================] - 1s 252ms/step - loss: 4.8722e-04 - accuracy: 1.0000 - val_loss: 0.5243 - val_accuracy: 0.8800\n",
      "Epoch 105/300\n",
      "4/4 [==============================] - 1s 232ms/step - loss: 4.8289e-04 - accuracy: 1.0000 - val_loss: 0.5317 - val_accuracy: 0.8800\n",
      "Epoch 106/300\n",
      "4/4 [==============================] - 1s 232ms/step - loss: 4.5578e-04 - accuracy: 1.0000 - val_loss: 0.5111 - val_accuracy: 0.8800\n",
      "Epoch 107/300\n",
      "4/4 [==============================] - 1s 256ms/step - loss: 4.6013e-04 - accuracy: 1.0000 - val_loss: 0.5040 - val_accuracy: 0.9000\n",
      "Epoch 108/300\n",
      "4/4 [==============================] - 1s 247ms/step - loss: 4.6291e-04 - accuracy: 1.0000 - val_loss: 0.5111 - val_accuracy: 0.9000\n",
      "Epoch 109/300\n",
      "4/4 [==============================] - 1s 229ms/step - loss: 4.5672e-04 - accuracy: 1.0000 - val_loss: 0.5231 - val_accuracy: 0.8800\n",
      "Epoch 110/300\n",
      "4/4 [==============================] - 1s 264ms/step - loss: 4.2374e-04 - accuracy: 1.0000 - val_loss: 0.5292 - val_accuracy: 0.8800\n",
      "Epoch 111/300\n",
      "4/4 [==============================] - 1s 245ms/step - loss: 4.2469e-04 - accuracy: 1.0000 - val_loss: 0.5314 - val_accuracy: 0.8800\n",
      "Epoch 112/300\n",
      "4/4 [==============================] - 1s 249ms/step - loss: 4.0269e-04 - accuracy: 1.0000 - val_loss: 0.5402 - val_accuracy: 0.8800\n",
      "Epoch 113/300\n",
      "4/4 [==============================] - 1s 251ms/step - loss: 4.0856e-04 - accuracy: 1.0000 - val_loss: 0.5514 - val_accuracy: 0.8800\n",
      "Epoch 114/300\n",
      "4/4 [==============================] - 1s 263ms/step - loss: 4.2317e-04 - accuracy: 1.0000 - val_loss: 0.5301 - val_accuracy: 0.9000\n",
      "Epoch 115/300\n"
     ]
    },
    {
     "name": "stdout",
     "output_type": "stream",
     "text": [
      "4/4 [==============================] - 1s 242ms/step - loss: 3.8532e-04 - accuracy: 1.0000 - val_loss: 0.5220 - val_accuracy: 0.9000\n",
      "Epoch 116/300\n",
      "4/4 [==============================] - 1s 244ms/step - loss: 3.8882e-04 - accuracy: 1.0000 - val_loss: 0.5333 - val_accuracy: 0.8800\n",
      "Epoch 117/300\n",
      "4/4 [==============================] - 1s 227ms/step - loss: 3.7159e-04 - accuracy: 1.0000 - val_loss: 0.5577 - val_accuracy: 0.8800\n",
      "Epoch 118/300\n",
      "4/4 [==============================] - 1s 267ms/step - loss: 3.7118e-04 - accuracy: 1.0000 - val_loss: 0.5730 - val_accuracy: 0.8800\n",
      "Epoch 119/300\n",
      "4/4 [==============================] - 1s 275ms/step - loss: 3.8379e-04 - accuracy: 1.0000 - val_loss: 0.5604 - val_accuracy: 0.8800\n",
      "Epoch 120/300\n",
      "4/4 [==============================] - 1s 249ms/step - loss: 3.5058e-04 - accuracy: 1.0000 - val_loss: 0.5430 - val_accuracy: 0.8800\n",
      "Epoch 121/300\n",
      "4/4 [==============================] - 1s 260ms/step - loss: 3.3281e-04 - accuracy: 1.0000 - val_loss: 0.5327 - val_accuracy: 0.8800\n",
      "Epoch 122/300\n",
      "4/4 [==============================] - 1s 252ms/step - loss: 3.4654e-04 - accuracy: 1.0000 - val_loss: 0.5486 - val_accuracy: 0.8800\n",
      "Epoch 123/300\n",
      "4/4 [==============================] - 1s 264ms/step - loss: 3.2970e-04 - accuracy: 1.0000 - val_loss: 0.5535 - val_accuracy: 0.8800\n",
      "Epoch 124/300\n",
      "4/4 [==============================] - 1s 264ms/step - loss: 3.3007e-04 - accuracy: 1.0000 - val_loss: 0.5507 - val_accuracy: 0.8800\n",
      "Epoch 125/300\n",
      "4/4 [==============================] - 1s 230ms/step - loss: 3.2070e-04 - accuracy: 1.0000 - val_loss: 0.5456 - val_accuracy: 0.8800\n",
      "Epoch 126/300\n",
      "4/4 [==============================] - 1s 249ms/step - loss: 3.0731e-04 - accuracy: 1.0000 - val_loss: 0.5449 - val_accuracy: 0.8800\n",
      "Epoch 127/300\n",
      "4/4 [==============================] - 1s 252ms/step - loss: 3.1337e-04 - accuracy: 1.0000 - val_loss: 0.5407 - val_accuracy: 0.8800\n",
      "Epoch 128/300\n",
      "4/4 [==============================] - 1s 263ms/step - loss: 3.0028e-04 - accuracy: 1.0000 - val_loss: 0.5365 - val_accuracy: 0.8800\n",
      "Epoch 129/300\n",
      "4/4 [==============================] - 1s 246ms/step - loss: 3.1008e-04 - accuracy: 1.0000 - val_loss: 0.5399 - val_accuracy: 0.8800\n",
      "Epoch 130/300\n",
      "4/4 [==============================] - 1s 248ms/step - loss: 3.0242e-04 - accuracy: 1.0000 - val_loss: 0.5497 - val_accuracy: 0.8800\n",
      "Epoch 131/300\n",
      "4/4 [==============================] - 1s 254ms/step - loss: 2.8475e-04 - accuracy: 1.0000 - val_loss: 0.5407 - val_accuracy: 0.8800\n",
      "Epoch 132/300\n",
      "4/4 [==============================] - 1s 258ms/step - loss: 3.0290e-04 - accuracy: 1.0000 - val_loss: 0.5401 - val_accuracy: 0.8800\n",
      "Epoch 133/300\n",
      "4/4 [==============================] - 1s 245ms/step - loss: 2.9467e-04 - accuracy: 1.0000 - val_loss: 0.5520 - val_accuracy: 0.8800\n",
      "Epoch 134/300\n",
      "4/4 [==============================] - 1s 252ms/step - loss: 2.7008e-04 - accuracy: 1.0000 - val_loss: 0.5691 - val_accuracy: 0.8800\n",
      "Epoch 135/300\n",
      "4/4 [==============================] - 1s 254ms/step - loss: 2.6498e-04 - accuracy: 1.0000 - val_loss: 0.5824 - val_accuracy: 0.8800\n",
      "Epoch 136/300\n",
      "4/4 [==============================] - 1s 263ms/step - loss: 2.7166e-04 - accuracy: 1.0000 - val_loss: 0.5894 - val_accuracy: 0.8800\n",
      "Epoch 137/300\n",
      "4/4 [==============================] - 1s 245ms/step - loss: 2.5975e-04 - accuracy: 1.0000 - val_loss: 0.5738 - val_accuracy: 0.8800\n",
      "Epoch 138/300\n",
      "4/4 [==============================] - 1s 249ms/step - loss: 2.5443e-04 - accuracy: 1.0000 - val_loss: 0.5635 - val_accuracy: 0.8800\n",
      "Epoch 139/300\n",
      "4/4 [==============================] - 1s 266ms/step - loss: 2.5002e-04 - accuracy: 1.0000 - val_loss: 0.5754 - val_accuracy: 0.8800\n",
      "Epoch 140/300\n",
      "4/4 [==============================] - 1s 268ms/step - loss: 2.4572e-04 - accuracy: 1.0000 - val_loss: 0.5815 - val_accuracy: 0.8800\n",
      "Epoch 141/300\n",
      "4/4 [==============================] - 1s 245ms/step - loss: 2.4577e-04 - accuracy: 1.0000 - val_loss: 0.5799 - val_accuracy: 0.8800\n",
      "Epoch 142/300\n",
      "4/4 [==============================] - 1s 248ms/step - loss: 2.3752e-04 - accuracy: 1.0000 - val_loss: 0.5753 - val_accuracy: 0.8800\n",
      "Epoch 143/300\n",
      "4/4 [==============================] - 1s 279ms/step - loss: 2.3825e-04 - accuracy: 1.0000 - val_loss: 0.5707 - val_accuracy: 0.8800\n",
      "Epoch 144/300\n",
      "4/4 [==============================] - 1s 251ms/step - loss: 2.2836e-04 - accuracy: 1.0000 - val_loss: 0.5673 - val_accuracy: 0.8800\n",
      "Epoch 145/300\n",
      "4/4 [==============================] - 1s 260ms/step - loss: 2.2664e-04 - accuracy: 1.0000 - val_loss: 0.5678 - val_accuracy: 0.8800\n"
     ]
    }
   ],
   "source": [
    "result_1 = model_1.fit(train_images, \n",
    "                       train_y, \n",
    "                       validation_data= (test_images, test_y),\n",
    "                       epochs = 300, \n",
    "                       callbacks = [trainCallback], \n",
    "                       batch_size = 32)"
   ]
  },
  {
   "cell_type": "code",
   "execution_count": 358,
   "id": "0e40b64a",
   "metadata": {
    "scrolled": false
   },
   "outputs": [
    {
     "data": {
      "image/png": "[encoded data removed]",
      "text/plain": [
       "<Figure size 640x480 with 1 Axes>"
      ]
     },
     "metadata": {},
     "output_type": "display_data"
    },
    {
     "data": {
      "image/png": "[encoded data removed]",
      "text/plain": [
       "<Figure size 640x480 with 1 Axes>"
      ]
     },
     "metadata": {},
     "output_type": "display_data"
    }
   ],
   "source": [
    "visualize_training_results(result_1)"
   ]
  },
  {
   "cell_type": "code",
   "execution_count": 359,
   "id": "f7157b35",
   "metadata": {},
   "outputs": [
    {
     "name": "stdout",
     "output_type": "stream",
     "text": [
      "1/1 [==============================] - 0s 46ms/step - loss: 0.3237 - accuracy: 0.9333\n"
     ]
    },
    {
     "data": {
      "text/plain": [
       "[0.3236570656299591, 0.9333333373069763]"
      ]
     },
     "execution_count": 359,
     "metadata": {},
     "output_type": "execute_result"
    }
   ],
   "source": [
    "model_1.evaluate(val_images, val_y)"
   ]
  },
  {
   "cell_type": "code",
   "execution_count": null,
   "id": "7f78cce7",
   "metadata": {},
   "outputs": [],
   "source": []
  },
  {
   "cell_type": "code",
   "execution_count": null,
   "id": "c902a89f",
   "metadata": {},
   "outputs": [],
   "source": []
  },
  {
   "cell_type": "code",
   "execution_count": null,
   "id": "4acad0db",
   "metadata": {},
   "outputs": [],
   "source": []
  },
  {
   "cell_type": "code",
   "execution_count": 260,
   "id": "ff4758bd",
   "metadata": {},
   "outputs": [],
   "source": [
    "def visualize_training_results(results):\n",
    "    history = results.history\n",
    "    plt.figure()\n",
    "    plt.plot(history['val_loss'])\n",
    "    plt.plot(history['loss'])\n",
    "    plt.legend(['val_loss', 'loss'])\n",
    "    plt.title('Loss')\n",
    "    plt.xlabel('Epochs')\n",
    "    plt.ylabel('Loss')\n",
    "    plt.show()\n",
    "    \n",
    "    plt.figure()\n",
    "    plt.plot(history['val_accuracy'])\n",
    "    plt.plot(history['accuracy'])\n",
    "    plt.legend(['val_accuracy', 'accuracy'])\n",
    "    plt.title('Accuracy')\n",
    "    plt.xlabel('Epochs')\n",
    "    plt.ylabel('Accuracy')\n",
    "    plt.show()\n"
   ]
  },
  {
   "cell_type": "code",
   "execution_count": 321,
   "id": "763a4f60",
   "metadata": {
    "scrolled": false
   },
   "outputs": [
    {
     "data": {
      "image/png": "[encoded data removed]",
      "text/plain": [
       "<Figure size 640x480 with 1 Axes>"
      ]
     },
     "metadata": {},
     "output_type": "display_data"
    },
    {
     "data": {
      "image/png": "[encoded data removed]",
      "text/plain": [
       "<Figure size 640x480 with 1 Axes>"
      ]
     },
     "metadata": {},
     "output_type": "display_data"
    }
   ],
   "source": [
    "visualize_training_results(result_1)"
   ]
  },
  {
   "cell_type": "code",
   "execution_count": null,
   "id": "589b4831",
   "metadata": {},
   "outputs": [],
   "source": []
  },
  {
   "cell_type": "code",
   "execution_count": null,
   "id": "92662855",
   "metadata": {},
   "outputs": [],
   "source": []
  },
  {
   "cell_type": "code",
   "execution_count": null,
   "id": "55c81aa3",
   "metadata": {},
   "outputs": [],
   "source": []
  },
  {
   "cell_type": "code",
   "execution_count": null,
   "id": "92d2e5ff",
   "metadata": {},
   "outputs": [],
   "source": []
  },
  {
   "cell_type": "code",
   "execution_count": null,
   "id": "e997f6b5",
   "metadata": {},
   "outputs": [],
   "source": []
  },
  {
   "cell_type": "code",
   "execution_count": null,
   "id": "f1ba41db",
   "metadata": {},
   "outputs": [],
   "source": []
  },
  {
   "cell_type": "code",
   "execution_count": null,
   "id": "e5ce7087",
   "metadata": {},
   "outputs": [],
   "source": []
  },
  {
   "cell_type": "code",
   "execution_count": null,
   "id": "b0076bb5",
   "metadata": {},
   "outputs": [],
   "source": []
  },
  {
   "cell_type": "code",
   "execution_count": 52,
   "id": "bba8bf3b",
   "metadata": {},
   "outputs": [
    {
     "name": "stdout",
     "output_type": "stream",
     "text": [
      "1/1 [==============================] - 0s 56ms/step\n"
     ]
    },
    {
     "data": {
      "text/plain": [
       "array([[0.],\n",
       "       [1.],\n",
       "       [0.]], dtype=float32)"
      ]
     },
     "execution_count": 52,
     "metadata": {},
     "output_type": "execute_result"
    }
   ],
   "source": [
    "model_1.predict(pred_generator)"
   ]
  },
  {
   "cell_type": "code",
   "execution_count": 51,
   "id": "86b5093d",
   "metadata": {},
   "outputs": [
    {
     "name": "stdout",
     "output_type": "stream",
     "text": [
      "Found 3 images belonging to 1 classes.\n"
     ]
    }
   ],
   "source": [
    "pred_datagen = ImageDataGenerator(horizontal_flip=False)\n",
    "\n",
    "pred_generator = pred_datagen.flow_from_directory(\n",
    "        'fruits/rot_test',\n",
    "        target_size=(IMAGE_SIZE,IMAGE_SIZE),\n",
    "        class_mode=\"sparse\",\n",
    ")"
   ]
  },
  {
   "cell_type": "code",
   "execution_count": null,
   "id": "4f0e47a0",
   "metadata": {},
   "outputs": [],
   "source": []
  },
  {
   "cell_type": "code",
   "execution_count": null,
   "id": "32e461b1",
   "metadata": {},
   "outputs": [],
   "source": []
  },
  {
   "cell_type": "code",
   "execution_count": null,
   "id": "f61228c4",
   "metadata": {},
   "outputs": [],
   "source": []
  },
  {
   "cell_type": "code",
   "execution_count": null,
   "id": "e657f3b0",
   "metadata": {},
   "outputs": [],
   "source": []
  },
  {
   "cell_type": "code",
   "execution_count": null,
   "id": "9d117ead",
   "metadata": {},
   "outputs": [],
   "source": []
  },
  {
   "cell_type": "code",
   "execution_count": null,
   "id": "2c40e2aa",
   "metadata": {},
   "outputs": [],
   "source": []
  },
  {
   "cell_type": "code",
   "execution_count": null,
   "id": "70ad3e38",
   "metadata": {},
   "outputs": [],
   "source": []
  },
  {
   "cell_type": "code",
   "execution_count": null,
   "id": "24399461",
   "metadata": {},
   "outputs": [],
   "source": []
  },
  {
   "cell_type": "code",
   "execution_count": null,
   "id": "591001c7",
   "metadata": {},
   "outputs": [],
   "source": []
  },
  {
   "cell_type": "code",
   "execution_count": null,
   "id": "917fe4be",
   "metadata": {},
   "outputs": [],
   "source": []
  },
  {
   "cell_type": "code",
   "execution_count": null,
   "id": "5fcb7414",
   "metadata": {},
   "outputs": [],
   "source": []
  },
  {
   "cell_type": "code",
   "execution_count": null,
   "id": "196bab10",
   "metadata": {},
   "outputs": [],
   "source": []
  },
  {
   "cell_type": "code",
   "execution_count": null,
   "id": "b8bca771",
   "metadata": {},
   "outputs": [],
   "source": []
  },
  {
   "cell_type": "code",
   "execution_count": null,
   "id": "316c11a5",
   "metadata": {},
   "outputs": [],
   "source": []
  },
  {
   "cell_type": "code",
   "execution_count": null,
   "id": "2919cb01",
   "metadata": {},
   "outputs": [],
   "source": []
  },
  {
   "cell_type": "code",
   "execution_count": null,
   "id": "6350ff3b",
   "metadata": {},
   "outputs": [],
   "source": []
  },
  {
   "cell_type": "code",
   "execution_count": null,
   "id": "ea2dce9d",
   "metadata": {},
   "outputs": [],
   "source": []
  },
  {
   "cell_type": "code",
   "execution_count": null,
   "id": "1912043a",
   "metadata": {},
   "outputs": [],
   "source": []
  },
  {
   "cell_type": "code",
   "execution_count": null,
   "id": "a7a1e218",
   "metadata": {},
   "outputs": [],
   "source": []
  },
  {
   "cell_type": "code",
   "execution_count": null,
   "id": "2758bfd0",
   "metadata": {},
   "outputs": [],
   "source": []
  },
  {
   "cell_type": "code",
   "execution_count": null,
   "id": "ec40646f",
   "metadata": {},
   "outputs": [],
   "source": []
  },
  {
   "cell_type": "code",
   "execution_count": null,
   "id": "bdff1be7",
   "metadata": {},
   "outputs": [],
   "source": []
  },
  {
   "cell_type": "code",
   "execution_count": null,
   "id": "e065ba4a",
   "metadata": {},
   "outputs": [],
   "source": []
  },
  {
   "cell_type": "code",
   "execution_count": null,
   "id": "a6ea3984",
   "metadata": {},
   "outputs": [],
   "source": []
  },
  {
   "cell_type": "code",
   "execution_count": null,
   "id": "c5927968",
   "metadata": {},
   "outputs": [],
   "source": []
  },
  {
   "cell_type": "code",
   "execution_count": null,
   "id": "624240c5",
   "metadata": {},
   "outputs": [],
   "source": []
  },
  {
   "cell_type": "code",
   "execution_count": null,
   "id": "94297215",
   "metadata": {},
   "outputs": [],
   "source": []
  },
  {
   "cell_type": "code",
   "execution_count": null,
   "id": "42ed1532",
   "metadata": {},
   "outputs": [],
   "source": []
  },
  {
   "cell_type": "code",
   "execution_count": null,
   "id": "40e0088b",
   "metadata": {},
   "outputs": [],
   "source": []
  },
  {
   "cell_type": "code",
   "execution_count": null,
   "id": "ee0e74da",
   "metadata": {},
   "outputs": [],
   "source": []
  },
  {
   "cell_type": "code",
   "execution_count": null,
   "id": "bb230dce",
   "metadata": {},
   "outputs": [],
   "source": []
  },
  {
   "cell_type": "code",
   "execution_count": null,
   "id": "fb11e291",
   "metadata": {},
   "outputs": [],
   "source": []
  },
  {
   "cell_type": "code",
   "execution_count": null,
   "id": "b9be520c",
   "metadata": {},
   "outputs": [],
   "source": []
  },
  {
   "cell_type": "code",
   "execution_count": null,
   "id": "4803393d",
   "metadata": {},
   "outputs": [],
   "source": [
    "from sklearn.model_selection import train_test_split\n",
    "from keras.utils.np_utils import to_categorical\n",
    "from sklearn import preprocessing\n",
    "from keras.preprocessing.text import Tokenizer\n",
    "from keras import models\n",
    "from keras import layers\n",
    "from keras import optimizers"
   ]
  }
 ],
 "metadata": {
  "kernelspec": {
   "display_name": "Python 3 (ipykernel)",
   "language": "python",
   "name": "python3"
  },
  "language_info": {
   "codemirror_mode": {
    "name": "ipython",
    "version": 3
   },
   "file_extension": ".py",
   "mimetype": "text/x-python",
   "name": "python",
   "nbconvert_exporter": "python",
   "pygments_lexer": "ipython3",
   "version": "3.9.12"
  }
 },
 "nbformat": 4,
 "nbformat_minor": 5
}
